{
 "cells": [
  {
   "cell_type": "code",
   "execution_count": 8,
   "metadata": {},
   "outputs": [
    {
     "name": "stdout",
     "output_type": "stream",
     "text": [
      "1 2 3 4 5 \n",
      "1 2 3 4 5 \n",
      "1 2 3 4 5 \n",
      "1 2 3 4 5 \n",
      "1 2 3 4 5 \n"
     ]
    }
   ],
   "source": [
    "for i in range(1, 6):\n",
    "    for j in range(1, 6):\n",
    "        print(j, end=' ')\n",
    "    print()"
   ]
  },
  {
   "cell_type": "code",
   "execution_count": 15,
   "metadata": {},
   "outputs": [
    {
     "name": "stdout",
     "output_type": "stream",
     "text": [
      "1 2 3 4 5 \n",
      "1 2 3 4 \n",
      "1 2 3 \n",
      "1 2 \n",
      "1 \n"
     ]
    }
   ],
   "source": [
    "for i in range(5, 0, -1):\n",
    "    for j in range(1, 6):\n",
    "        print(j, end=' ')\n",
    "        if j == i:\n",
    "            break\n",
    "    print()"
   ]
  },
  {
   "cell_type": "code",
   "execution_count": 9,
   "metadata": {},
   "outputs": [
    {
     "name": "stdout",
     "output_type": "stream",
     "text": [
      "1 2 3 4 5 \n",
      "2 3 4 5 \n",
      "3 4 5 \n",
      "4 5 \n",
      "5 \n"
     ]
    }
   ],
   "source": [
    "for i in range(0, 5):\n",
    "    for j in range(1, 6):\n",
    "        k=i+j\n",
    "        if k<=5:\n",
    "            print(k,end=\" \")\n",
    "    print()"
   ]
  },
  {
   "cell_type": "code",
   "execution_count": 11,
   "metadata": {},
   "outputs": [
    {
     "name": "stdout",
     "output_type": "stream",
     "text": [
      "1 \n",
      "1 2 \n",
      "1 2 3 \n",
      "1 2 3 4 \n",
      "1 2 3 4 5 \n"
     ]
    }
   ],
   "source": [
    "for i in range(1, 6):\n",
    "    for j in range(1, 6):\n",
    "        print(j, end=' ')\n",
    "        if j == i:\n",
    "            break\n",
    "    print()"
   ]
  },
  {
   "cell_type": "code",
   "execution_count": 7,
   "metadata": {},
   "outputs": [
    {
     "name": "stdout",
     "output_type": "stream",
     "text": [
      "1 \n",
      "2 1 \n",
      "3 2 1 \n",
      "4 3 2 1 \n",
      "5 4 3 2 1 \n"
     ]
    }
   ],
   "source": [
    "for i in range(1, 6):\n",
    "    for j in range(6, 0, -1):\n",
    "        k = i-j\n",
    "        if k>=0:\n",
    "            print(j, end=' ')\n",
    "    print()"
   ]
  },
  {
   "cell_type": "code",
   "execution_count": 18,
   "metadata": {},
   "outputs": [
    {
     "name": "stdout",
     "output_type": "stream",
     "text": [
      "5 4 3 2 1 \n",
      "5 4 3 2 1 \n",
      "5 4 3 2 1 \n",
      "5 4 3 2 1 \n",
      "5 4 3 2 1 \n"
     ]
    }
   ],
   "source": [
    "for i in range(1, 6):\n",
    "    for j in range(5, 0, -1):\n",
    "        print(j, end=' ')\n",
    "    print()"
   ]
  },
  {
   "cell_type": "code",
   "execution_count": 17,
   "metadata": {},
   "outputs": [
    {
     "name": "stdout",
     "output_type": "stream",
     "text": [
      "5 4 3 2 1 \n",
      "5 4 3 2 \n",
      "5 4 3 \n",
      "5 4 \n",
      "5 \n"
     ]
    }
   ],
   "source": [
    "for i in range(1, 6):\n",
    "    for j in range(5, 0, -1):\n",
    "        print(j, end=' ')\n",
    "        if j == i:\n",
    "            break\n",
    "    print()"
   ]
  },
  {
   "cell_type": "code",
   "execution_count": 19,
   "metadata": {},
   "outputs": [
    {
     "name": "stdout",
     "output_type": "stream",
     "text": [
      "5 \n",
      "5 4 \n",
      "5 4 3 \n",
      "5 4 3 2 \n",
      "5 4 3 2 1 \n"
     ]
    }
   ],
   "source": [
    "for i in range(5, 0, -1):\n",
    "    for j in range(5, 0, -1):\n",
    "        print(j, end=' ')\n",
    "        if j == i:\n",
    "            break\n",
    "    print()"
   ]
  },
  {
   "cell_type": "code",
   "execution_count": 17,
   "metadata": {},
   "outputs": [
    {
     "name": "stdout",
     "output_type": "stream",
     "text": [
      "5 \n",
      "4 5 \n",
      "3 4 5 \n",
      "2 3 4 5 \n",
      "1 2 3 4 5 \n"
     ]
    }
   ],
   "source": [
    "for i in range(1,6):\n",
    "    for j in range(1,6):\n",
    "        k = i+j\n",
    "        if k>=6:\n",
    "            print(j, end=' ')\n",
    "    print()"
   ]
  },
  {
   "cell_type": "code",
   "execution_count": 20,
   "metadata": {},
   "outputs": [
    {
     "name": "stdout",
     "output_type": "stream",
     "text": [
      "6\n",
      "1 6\n",
      "1 2 6\n",
      "1 2 3 6\n",
      "1 2 3 4 6\n",
      "1 2 3 4 5 6\n"
     ]
    }
   ],
   "source": [
    "print(6)\n",
    "for i in range(1, 6):\n",
    "    for j in range(1, 6):\n",
    "        print(j, end=' ')\n",
    "        if j == i:\n",
    "            break\n",
    "    print(6)"
   ]
  },
  {
   "cell_type": "code",
   "execution_count": 22,
   "metadata": {},
   "outputs": [
    {
     "name": "stdout",
     "output_type": "stream",
     "text": [
      "2 3 4 5 6 \n",
      "3 4 5 6 7 \n",
      "4 5 6 7 8 \n",
      "5 6 7 8 9 \n",
      "6 7 8 9 10 \n"
     ]
    }
   ],
   "source": [
    "for i in range(1, 6):\n",
    "    for j in range(1, 6):\n",
    "        print(i+j, end=' ')\n",
    "    print()"
   ]
  },
  {
   "cell_type": "code",
   "execution_count": 1,
   "metadata": {},
   "outputs": [
    {
     "name": "stdout",
     "output_type": "stream",
     "text": [
      "        1 \n",
      "      1 2 1 \n",
      "    1 2 3 2 1 \n",
      "  1 2 3 4 3 2 1 \n",
      "1 2 3 4 5 4 3 2 1 \n",
      "  1 2 3 4 3 2 1 \n",
      "    1 2 3 2 1 \n",
      "      1 2 1 \n",
      "        1 \n"
     ]
    }
   ],
   "source": [
    "for i in range(1,6):\n",
    "  for j in range(5,i,-1):\n",
    "    print(\" \",end=' ')\n",
    "  for k in range(1,i+1):\n",
    "    print(k, end=' ')\n",
    "  for l in range(i-1,0,-1):\n",
    "    print(l,end=' ')\n",
    "  print()\n",
    "t = 5\n",
    "for i in range(1,5):\n",
    "  for j in range(0,i):\n",
    "    print(' ', end=' ')\n",
    "  for k in range(1,t):\n",
    "    print(k, end=' ')\n",
    "  for l in range(4,i,-1):\n",
    "    print(l-i, end=' ')\n",
    "  print()\n",
    "  t -= 1"
   ]
  },
  {
   "cell_type": "code",
   "execution_count": 2,
   "metadata": {},
   "outputs": [
    {
     "name": "stdout",
     "output_type": "stream",
     "text": [
      "        * \n",
      "      * * * \n",
      "    * * * * * \n",
      "  * * * * * * * \n",
      "* * * * * * * * * \n",
      "  * * * * * * * \n",
      "    * * * * * \n",
      "      * * * \n",
      "        * \n",
      "          \n"
     ]
    }
   ],
   "source": [
    "for i in range(1,6):\n",
    "  for j in range(5,i,-1):\n",
    "    print(' ', end=' ')\n",
    "  for k in range(1,i+1):\n",
    "    print('*', end=' ')\n",
    "  for l in range(i-1,0,-1):\n",
    "    print('*', end=' ')\n",
    "  print()\n",
    "t=5\n",
    "for i in range(1,6):\n",
    "  for j in range(1,i+1):\n",
    "    print(' ', end=' ')\n",
    "  for k in range(1,t):\n",
    "    print('*', end=' ')\n",
    "  for l in range(2,t):\n",
    "    print('*', end=' ')\n",
    "  print()\n",
    "  t -= 1"
   ]
  },
  {
   "cell_type": "code",
   "execution_count": 23,
   "metadata": {},
   "outputs": [
    {
     "name": "stdout",
     "output_type": "stream",
     "text": [
      "* * * * * \n",
      "* * * * * \n",
      "* * * * * \n",
      "* * * * * \n",
      "* * * * * \n"
     ]
    }
   ],
   "source": [
    "for i in range(1, 6):\n",
    "    for j in range(1, 6):\n",
    "        print('*', end=' ')\n",
    "    print()"
   ]
  },
  {
   "cell_type": "code",
   "execution_count": 24,
   "metadata": {},
   "outputs": [
    {
     "name": "stdout",
     "output_type": "stream",
     "text": [
      "* \n",
      "* * \n",
      "* * * \n",
      "* * * * \n",
      "* * * * * \n"
     ]
    }
   ],
   "source": [
    "for i in range(1, 6):\n",
    "    for j in range(1, 6):\n",
    "        print('*', end=' ')\n",
    "        if j==i:\n",
    "            break\n",
    "    print()"
   ]
  },
  {
   "cell_type": "code",
   "execution_count": 25,
   "metadata": {},
   "outputs": [
    {
     "name": "stdout",
     "output_type": "stream",
     "text": [
      "* * * * * \n",
      "* * * * \n",
      "* * * \n",
      "* * \n",
      "* \n"
     ]
    }
   ],
   "source": [
    "for i in range(5, 0, -1):\n",
    "    for j in range(1, 6):\n",
    "        print('*', end=' ')\n",
    "        if j==i:\n",
    "            break\n",
    "    print()"
   ]
  },
  {
   "cell_type": "code",
   "execution_count": 29,
   "metadata": {},
   "outputs": [
    {
     "name": "stdout",
     "output_type": "stream",
     "text": [
      "1 * * * * \n",
      "1 2 * * * \n",
      "1 2 3 * * \n",
      "1 2 3 4 * \n",
      "1 2 3 4 5 \n"
     ]
    }
   ],
   "source": [
    "for i in range(1, 6):\n",
    "    for j in range(1, 6):\n",
    "        if j<=i:\n",
    "            print(j, end=' ')\n",
    "        else:\n",
    "            print('*', end=' ')\n",
    "    print()"
   ]
  },
  {
   "cell_type": "code",
   "execution_count": 30,
   "metadata": {},
   "outputs": [
    {
     "name": "stdout",
     "output_type": "stream",
     "text": [
      "1 2 3 4 5 \n",
      "* * * * * \n",
      "1 2 3 4 5 \n",
      "* * * * * \n",
      "1 2 3 4 5 \n"
     ]
    }
   ],
   "source": [
    "for i in range(1, 6):\n",
    "    for j in range(1, 6):\n",
    "        if i%2 != 0:\n",
    "            print(j, end=' ')\n",
    "        else:\n",
    "            print('*', end=' ')\n",
    "    print()"
   ]
  },
  {
   "cell_type": "code",
   "execution_count": 43,
   "metadata": {},
   "outputs": [
    {
     "name": "stdout",
     "output_type": "stream",
     "text": [
      "1 2 3 4 5 \n",
      "2 2 3 4 5 \n",
      "3 3 3 4 5 \n",
      "4 4 4 4 5 \n",
      "5 5 5 5 5 \n"
     ]
    }
   ],
   "source": [
    "for i in range(1, 6):\n",
    "    for j in range(5, 0, -1):\n",
    "        k = i+j\n",
    "        if k>5:\n",
    "            print(i, end=' ')\n",
    "    for j in range(1, 6):\n",
    "        k=i+j\n",
    "        if k<=5:\n",
    "            print(k, end=' ')\n",
    "    print()"
   ]
  },
  {
   "cell_type": "code",
   "execution_count": 44,
   "metadata": {},
   "outputs": [
    {
     "name": "stdout",
     "output_type": "stream",
     "text": [
      "1 \n",
      "1 0 \n",
      "1 0 1 \n",
      "1 0 1 0 \n",
      "1 0 1 0 1 \n",
      "1 0 1 0 1 0 \n"
     ]
    }
   ],
   "source": [
    "for i in range(1, 7):\n",
    "    for j in range(1, 7):\n",
    "        print(j%2, end=' ')\n",
    "        if j == i:\n",
    "            break\n",
    "    print()"
   ]
  },
  {
   "cell_type": "code",
   "execution_count": 59,
   "metadata": {},
   "outputs": [
    {
     "name": "stdout",
     "output_type": "stream",
     "text": [
      "1 \n",
      "0 1 \n",
      "1 0 1 \n",
      "0 1 0 1 \n",
      "1 0 1 0 1 \n",
      "0 1 0 1 0 1 \n",
      "1 0 1 0 1 0 1 \n"
     ]
    }
   ],
   "source": [
    "for i in range(1, 8):\n",
    "    k = i%2\n",
    "    if k == 0:\n",
    "        print(0, end=' ')\n",
    "    for j in range(1, 8):\n",
    "        if k == 1:\n",
    "            print(j%2, end=' ')\n",
    "        else:\n",
    "            print(j%2, end=' ')\n",
    "            j += 1\n",
    "        if j == i:\n",
    "            break\n",
    "    print()"
   ]
  },
  {
   "cell_type": "code",
   "execution_count": 60,
   "metadata": {},
   "outputs": [
    {
     "name": "stdout",
     "output_type": "stream",
     "text": [
      "1 0 1 0 1 0 1 \n",
      "1 0 1 0 1 0 \n",
      "1 0 1 0 1 \n",
      "1 0 1 0 \n",
      "1 0 1 \n",
      "1 0 \n",
      "1 \n"
     ]
    }
   ],
   "source": [
    "for i in range(7, 0, -1):\n",
    "    for j in range(1, 8):\n",
    "        print(j%2, end=' ')\n",
    "        if j == i:\n",
    "            break\n",
    "    print()"
   ]
  },
  {
   "cell_type": "code",
   "execution_count": 62,
   "metadata": {},
   "outputs": [
    {
     "name": "stdout",
     "output_type": "stream",
     "text": [
      "1 0 1 0 1 0 1 \n",
      "0 1 0 1 0 1 \n",
      "1 0 1 0 1 \n",
      "0 1 0 1 \n",
      "1 0 1 \n",
      "0 1 \n",
      "1 \n"
     ]
    }
   ],
   "source": [
    "for i in range(7, 0, -1):\n",
    "    k = i%2\n",
    "    if k == 0:\n",
    "        print(0, end=' ')\n",
    "    for j in range(1, 8):\n",
    "        if k == 1:\n",
    "            print(j%2, end=' ')\n",
    "        else:\n",
    "            print(j%2, end=' ')\n",
    "            j += 1\n",
    "        if j == i:\n",
    "            break\n",
    "    print()"
   ]
  },
  {
   "cell_type": "code",
   "execution_count": 13,
   "metadata": {},
   "outputs": [
    {
     "name": "stdout",
     "output_type": "stream",
     "text": [
      "1 1 1 1 1 \n",
      "2 2 2 2 2 \n",
      "3 3 3 3 3 \n",
      "4 4 4 4 4 \n",
      "5 5 5 5 5 \n"
     ]
    }
   ],
   "source": [
    "for i in range(1,6):\n",
    "    for j in range(1, 6):\n",
    "        print(i, end=' ')\n",
    "    print()"
   ]
  },
  {
   "cell_type": "code",
   "execution_count": 32,
   "metadata": {},
   "outputs": [
    {
     "name": "stdout",
     "output_type": "stream",
     "text": [
      "1 \n",
      "2 2 \n",
      "3 3 3 \n",
      "4 4 4 4 \n",
      "5 5 5 5 5 \n"
     ]
    }
   ],
   "source": [
    "for i in range(1, 6):\n",
    "    for j in range(5, 0, -1):\n",
    "        k = i+j\n",
    "        if k>=6:\n",
    "            print(i, end=' ')\n",
    "    print()"
   ]
  },
  {
   "cell_type": "code",
   "execution_count": 67,
   "metadata": {},
   "outputs": [
    {
     "name": "stdout",
     "output_type": "stream",
     "text": [
      "5 \n",
      "4 4 \n",
      "3 3 3 \n",
      "2 2 2 2 \n",
      "1 1 1 1 1 \n"
     ]
    }
   ],
   "source": [
    "for i in range(5, 0, -1):\n",
    "    for j in range(1, 6):\n",
    "        k = i+j\n",
    "        if k<=6:\n",
    "            print(i, end=' ')\n",
    "    print()"
   ]
  },
  {
   "cell_type": "code",
   "execution_count": 68,
   "metadata": {},
   "outputs": [
    {
     "name": "stdout",
     "output_type": "stream",
     "text": [
      "1 \n",
      "2 3 \n",
      "4 5 6 \n",
      "7 8 9 10 \n"
     ]
    }
   ],
   "source": [
    "k=1\n",
    "for i in range(1, 5):\n",
    "    for j in range(1, 5):\n",
    "        print(k, end=' ')\n",
    "        k += 1\n",
    "        if i == j:\n",
    "            break\n",
    "    print()"
   ]
  },
  {
   "cell_type": "code",
   "execution_count": 1,
   "metadata": {},
   "outputs": [
    {
     "name": "stdout",
     "output_type": "stream",
     "text": [
      "\n",
      "0 \n",
      "1 1 \n",
      "2 3 5 \n",
      "8 13 21 34 \n"
     ]
    }
   ],
   "source": [
    "k = 0\n",
    "m = 1\n",
    "n = 0\n",
    "for i in range(0, 5):\n",
    "    for j in range(0, i):\n",
    "        print(n, end=' ')\n",
    "        k = m\n",
    "        m = n\n",
    "        n = m+k\n",
    "    print()"
   ]
  },
  {
   "cell_type": "code",
   "execution_count": 25,
   "metadata": {},
   "outputs": [
    {
     "name": "stdout",
     "output_type": "stream",
     "text": [
      "\n",
      "1 \n",
      "2 3 \n",
      "5 7 11 \n",
      "13 17 19 23 \n",
      "29 31 37 41 43 \n"
     ]
    }
   ],
   "source": [
    "i = 3\n",
    "prime = [1,2]\n",
    "while i<50:\n",
    "    c = 0\n",
    "    for j in range(2, i-1):\n",
    "        if i%j == 0:\n",
    "            c = 1\n",
    "            break\n",
    "    if c == 0:\n",
    "        prime.append(i)\n",
    "    i += 1\n",
    "r = 0\n",
    "for p in range(0, 6):\n",
    "    for q in range(0, p):\n",
    "        print(prime[r], end=' ')\n",
    "        r += 1\n",
    "    print()"
   ]
  },
  {
   "cell_type": "code",
   "execution_count": null,
   "metadata": {},
   "outputs": [],
   "source": []
  },
  {
   "cell_type": "code",
   "execution_count": 27,
   "metadata": {},
   "outputs": [
    {
     "name": "stdout",
     "output_type": "stream",
     "text": [
      "\n",
      "0 \n",
      "1 2 \n",
      "3 4 0 \n",
      "1 2 3 4 \n"
     ]
    }
   ],
   "source": [
    "c = 0\n",
    "for i in range(0, 5):\n",
    "    for j in range(0, i):\n",
    "        print(c%5, end=' ')\n",
    "        c += 1\n",
    "    print()"
   ]
  },
  {
   "cell_type": "code",
   "execution_count": 28,
   "metadata": {},
   "outputs": [
    {
     "name": "stdout",
     "output_type": "stream",
     "text": [
      "\n",
      "0 \n",
      "1 2 \n",
      "0 1 2 \n",
      "0 1 2 0 \n"
     ]
    }
   ],
   "source": [
    "c = 0\n",
    "for i in range(0, 5):\n",
    "    for j in range(0, i):\n",
    "        print(c%3, end=' ')\n",
    "        c += 1\n",
    "    print()"
   ]
  },
  {
   "cell_type": "code",
   "execution_count": 32,
   "metadata": {},
   "outputs": [
    {
     "name": "stdout",
     "output_type": "stream",
     "text": [
      "********\n",
      " ********\n",
      "********\n",
      " ********\n",
      "********\n",
      " ********\n",
      "********\n",
      " ********\n"
     ]
    }
   ],
   "source": [
    "for i in range(0, 8):\n",
    "    if i%2 == 1:\n",
    "        print(' ', end='')\n",
    "    for j in range(0, 8):\n",
    "        print('*', end='')\n",
    "    print()"
   ]
  },
  {
   "cell_type": "code",
   "execution_count": 33,
   "metadata": {},
   "outputs": [
    {
     "name": "stdout",
     "output_type": "stream",
     "text": [
      "******\n",
      " ******\n",
      "******\n",
      "******\n",
      "******\n",
      "******\n"
     ]
    }
   ],
   "source": [
    "for i in range(0, 6):\n",
    "    if i == 1:\n",
    "        print(' ', end='')\n",
    "    for j in range(0, 6):\n",
    "        print('*', end='')\n",
    "    print()"
   ]
  },
  {
   "cell_type": "code",
   "execution_count": 34,
   "metadata": {},
   "outputs": [
    {
     "name": "stdout",
     "output_type": "stream",
     "text": [
      "1 2 3 4 5 \n",
      "A A A A A \n",
      "1 2 3 4 5 \n",
      "A A A A A \n",
      "1 2 3 4 5 \n"
     ]
    }
   ],
   "source": [
    "for i in range(0, 5):\n",
    "    for j in range(1, 6):\n",
    "        if i%2 == 1:\n",
    "            print('A', end=' ')\n",
    "        else:\n",
    "            print(j, end=' ')\n",
    "    print()"
   ]
  },
  {
   "cell_type": "code",
   "execution_count": 36,
   "metadata": {},
   "outputs": [
    {
     "name": "stdout",
     "output_type": "stream",
     "text": [
      "0 2 3 4 5 \n",
      "1 0 3 4 5 \n",
      "1 2 0 4 5 \n",
      "1 2 3 0 5 \n",
      "1 2 3 4 0 \n"
     ]
    }
   ],
   "source": [
    "for i in range(1, 6):\n",
    "    for j in range(1, 6):\n",
    "        if i == j:\n",
    "            print(0, end=' ')\n",
    "        else:\n",
    "            print(j, end=' ')\n",
    "    print()"
   ]
  },
  {
   "cell_type": "code",
   "execution_count": 37,
   "metadata": {},
   "outputs": [
    {
     "name": "stdout",
     "output_type": "stream",
     "text": [
      "1 * 3 * 5 \n",
      "* 2 * 4 * \n",
      "1 * 3 * 5 \n",
      "* 2 * 4 * \n",
      "1 * 3 * 5 \n"
     ]
    }
   ],
   "source": [
    "for i in range(1, 6):\n",
    "    c = 0\n",
    "    if i%2 == 0:\n",
    "        c = 1\n",
    "    for j in range(1, 6):\n",
    "        if c == 1:\n",
    "            if j%2 == 1:\n",
    "                print('*', end=' ')\n",
    "            else:\n",
    "                print(j, end=' ')\n",
    "        else:\n",
    "            if j%2 == 0:\n",
    "                print('*', end=' ')\n",
    "            else:\n",
    "                print(j, end=' ')\n",
    "    print()"
   ]
  },
  {
   "cell_type": "code",
   "execution_count": 25,
   "metadata": {},
   "outputs": [
    {
     "name": "stdout",
     "output_type": "stream",
     "text": [
      "          # \n",
      "        # # \n",
      "      # # # \n",
      "    # # # # \n",
      "  # # # # # \n"
     ]
    }
   ],
   "source": [
    "for i in range(5, 0, -1):\n",
    "    for j in range(1, 6):\n",
    "        print(' ', end=' ')\n",
    "        if j == i:\n",
    "            break\n",
    "    for j in range(5, 0, -1):\n",
    "        print('#', end=' ')\n",
    "        if j == i:\n",
    "            break\n",
    "    print()"
   ]
  },
  {
   "cell_type": "code",
   "execution_count": 8,
   "metadata": {},
   "outputs": [
    {
     "name": "stdout",
     "output_type": "stream",
     "text": [
      "* * * * * \n",
      "* * * * * \n",
      "* \n",
      "* * * * * \n",
      "* * * * * \n"
     ]
    }
   ],
   "source": [
    "for i in range(5, 0, -1):\n",
    "    for j in range(1, 6):\n",
    "        print('*', end=' ')\n",
    "        if j==i:\n",
    "            break\n",
    "    print()"
   ]
  },
  {
   "cell_type": "code",
   "execution_count": 4,
   "metadata": {},
   "outputs": [
    {
     "name": "stdout",
     "output_type": "stream",
     "text": [
      "5\n",
      "140 82\n",
      "89 134\n",
      "90 110\n",
      "112 106\n",
      "88 90\n",
      "1 58\n"
     ]
    }
   ],
   "source": [
    "n = int(input())\n",
    "player1 = []\n",
    "player2 = []\n",
    "difference = []\n",
    "winner = []\n",
    "for i in range(0, n):\n",
    "    p1,p2 = map(int, input().split())\n",
    "    player1.append(p1)\n",
    "    player2.append(p2)\n",
    "scores = [*zip(player1, player2)]\n",
    "for i in scores:\n",
    "    if i[0]>=i[1]:\n",
    "        difference.append(i[0]-i[1])\n",
    "        winner.append(1)\n",
    "    else:\n",
    "        difference.append(i[1]-i[0])\n",
    "        winner.append(2)\n",
    "largest_diff = max(difference)\n",
    "loc = difference.index(largest_diff)\n",
    "print(winner[loc], largest_diff)"
   ]
  },
  {
   "cell_type": "code",
   "execution_count": 4,
   "metadata": {},
   "outputs": [
    {
     "name": "stdout",
     "output_type": "stream",
     "text": [
      "3\n",
      "12 23 34 45 6\n",
      "324332 32 32 545 4 5\n",
      "656 32 11 2 \n",
      "34\n",
      "545\n",
      "32\n"
     ]
    }
   ],
   "source": [
    "n = int(input())\n",
    "for i in range(0, n):\n",
    "    elements = [*map(int, input().split())]\n",
    "    elements.sort(reverse=True)\n",
    "    print(elements[1])"
   ]
  },
  {
   "cell_type": "code",
   "execution_count": 7,
   "metadata": {},
   "outputs": [
    {
     "name": "stdout",
     "output_type": "stream",
     "text": [
      "3\n",
      "12 23 34 45 6\n",
      "<map object at 0x000001C8C5399850>\n",
      "34\n",
      "323332 32 32 545 4 5\n",
      "<map object at 0x000001C8C5399BE0>\n",
      "545\n",
      "656 32 11 2\n",
      "<map object at 0x000001C8C5399850>\n",
      "32\n"
     ]
    }
   ],
   "source": [
    "for i in range(int(input())):\n",
    "    t = map(int, input().split())\n",
    "    k = list(t)\n",
    "    k.sort(reverse=True)\n",
    "    print(k[1])"
   ]
  },
  {
   "cell_type": "code",
   "execution_count": 5,
   "metadata": {},
   "outputs": [
    {
     "name": "stdout",
     "output_type": "stream",
     "text": [
      "3\n",
      "12 23 34 45 6\n",
      "12\n",
      "21323 32 32 545 4 5\n",
      "5\n",
      "656 32 11 2\n",
      "11\n"
     ]
    }
   ],
   "source": [
    "t=int(input())\n",
    "while(t>0):\n",
    "    t-=1\n",
    "    x=[int(x) for x in input().split()]\n",
    "    x.sort()\n",
    "    print(x[1])"
   ]
  }
 ],
 "metadata": {
  "kernelspec": {
   "display_name": "Python 3 (ipykernel)",
   "language": "python",
   "name": "python3"
  },
  "language_info": {
   "codemirror_mode": {
    "name": "ipython",
    "version": 3
   },
   "file_extension": ".py",
   "mimetype": "text/x-python",
   "name": "python",
   "nbconvert_exporter": "python",
   "pygments_lexer": "ipython3",
   "version": "3.8.5"
  }
 },
 "nbformat": 4,
 "nbformat_minor": 4
}
